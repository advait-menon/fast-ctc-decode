{
 "cells": [
  {
   "cell_type": "code",
   "execution_count": 23,
   "id": "46fa029d",
   "metadata": {},
   "outputs": [
    {
     "data": {
      "text/plain": [
       "('AC', [0, 1])"
      ]
     },
     "execution_count": 23,
     "metadata": {},
     "output_type": "execute_result"
    }
   ],
   "source": [
    "import numpy as np\n",
    "from fast_ctc_decode import beam_search\n",
    "\n",
    "alphabet = \"NACGT\"\n",
    "probs = np.array([\n",
    "    [0.1, 0.6, 0.2, 0.05, 0.05],   # Time step 0: [N, A, C, T]\n",
    "    [0.6, 0.1, 0.05, 0.05, 0.2],   # Time step 1\n",
    "    [0.1, 0.6, 0.2, 0.05, 0.05],  # Time step 2\n",
    "    # [0.4, 0.2, 0.3, 0.1]    # Time step 3\n",
    "]).astype(np.float32)\n",
    "\n",
    "beam_search(probs,alphabet,2,beam_cut_threshold=0.0,collapse_repeats=True,no_repeats=True,entropy_threshold=-1)"
   ]
  }
 ],
 "metadata": {
  "kernelspec": {
   "display_name": "venv",
   "language": "python",
   "name": "python3"
  },
  "language_info": {
   "codemirror_mode": {
    "name": "ipython",
    "version": 3
   },
   "file_extension": ".py",
   "mimetype": "text/x-python",
   "name": "python",
   "nbconvert_exporter": "python",
   "pygments_lexer": "ipython3",
   "version": "3.12.3"
  }
 },
 "nbformat": 4,
 "nbformat_minor": 5
}
